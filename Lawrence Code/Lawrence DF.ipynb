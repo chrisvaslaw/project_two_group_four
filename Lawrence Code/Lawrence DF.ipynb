{
 "cells": [
  {
   "cell_type": "code",
   "execution_count": 1,
   "metadata": {},
   "outputs": [],
   "source": [
    "import json\n",
    "import requests\n",
    "import pandas as pd\n",
    "from config import CLIENT_ID\n",
    "from config import CLIENT_SECRET\n",
    "from config import password\n",
    "from sqlalchemy import create_engine"
   ]
  },
  {
   "cell_type": "code",
   "execution_count": 2,
   "metadata": {},
   "outputs": [],
   "source": [
    "AUTH_URL = 'https://accounts.spotify.com/api/token'\n",
    "\n",
    "# POST\n",
    "auth_response = requests.post(AUTH_URL, {\n",
    "    'grant_type': 'client_credentials',\n",
    "    'client_id': CLIENT_ID,\n",
    "    'client_secret': CLIENT_SECRET,\n",
    "})\n",
    "\n",
    "# convert the response to JSON\n",
    "auth_response_data = auth_response.json()\n",
    "\n",
    "# save the access token\n",
    "access_token = auth_response_data['access_token']\n",
    "\n",
    "#set header\n",
    "headers = {\n",
    "    'Authorization': 'Bearer {token}'.format(token=access_token)\n",
    "}"
   ]
  },
  {
   "cell_type": "code",
   "execution_count": 39,
   "metadata": {},
   "outputs": [],
   "source": [
    "playlist_json = requests.get('https://api.spotify.com/v1/playlists/5zrICw4pXEoaUQ80xUIPz4', headers=headers).json()\n",
    "\n",
    "tracks = []\n",
    "artists = []\n",
    "album = []\n",
    "duration = []\n",
    "track_id =[]\n",
    "artist_id = []\n",
    "for x in range(0, len(playlist_json['tracks']['items'])):\n",
    "    tracks.append(playlist_json['tracks']['items'][x]['track']['name'])\n",
    "    artists.append(playlist_json['tracks']['items'][x]['track']['album']['artists'][0]['name'])\n",
    "    album.append(playlist_json['tracks']['items'][x]['track']['album']['name'])\n",
    "    duration.append(playlist_json['tracks']['items'][x]['track']['duration_ms'])\n",
    "    track_id.append(playlist_json['tracks']['items'][x]['track']['id'])\n",
    "    artist_id.append(playlist_json['tracks']['items'][x]['track']['artists'][0]['id'])"
   ]
  },
  {
   "cell_type": "code",
   "execution_count": 41,
   "metadata": {},
   "outputs": [],
   "source": [
    "dict = {\n",
    "    'song' : tracks,\n",
    "    'artist' : artists,\n",
    "    'album': album,\n",
    "    'length' : duration,\n",
    "    'track_id': track_id,\n",
    "    'artist_id': artist_id\n",
    "}\n",
    "\n",
    "Playlist_df = pd.DataFrame(dict)"
   ]
  },
  {
   "cell_type": "code",
   "execution_count": 44,
   "metadata": {},
   "outputs": [],
   "source": [
    "Playlist_df = Playlist_df[['track_id', 'song', 'artist','artist_id', 'album', 'length']]"
   ]
  },
  {
   "cell_type": "code",
   "execution_count": 45,
   "metadata": {},
   "outputs": [
    {
     "data": {
      "text/html": [
       "<div>\n",
       "<style scoped>\n",
       "    .dataframe tbody tr th:only-of-type {\n",
       "        vertical-align: middle;\n",
       "    }\n",
       "\n",
       "    .dataframe tbody tr th {\n",
       "        vertical-align: top;\n",
       "    }\n",
       "\n",
       "    .dataframe thead th {\n",
       "        text-align: right;\n",
       "    }\n",
       "</style>\n",
       "<table border=\"1\" class=\"dataframe\">\n",
       "  <thead>\n",
       "    <tr style=\"text-align: right;\">\n",
       "      <th></th>\n",
       "      <th>track_id</th>\n",
       "      <th>song</th>\n",
       "      <th>artist</th>\n",
       "      <th>artist_id</th>\n",
       "      <th>album</th>\n",
       "      <th>length</th>\n",
       "    </tr>\n",
       "  </thead>\n",
       "  <tbody>\n",
       "    <tr>\n",
       "      <th>0</th>\n",
       "      <td>3nXUfNbkv8ikaSdHwEp0oY</td>\n",
       "      <td>DDD</td>\n",
       "      <td>EXID</td>\n",
       "      <td>1xs6WFotNQSXweo0GXrS0O</td>\n",
       "      <td>Full Moon</td>\n",
       "      <td>205821</td>\n",
       "    </tr>\n",
       "    <tr>\n",
       "      <th>1</th>\n",
       "      <td>3aW0ds4A4tSQDIp75FqWTo</td>\n",
       "      <td>FAKE LOVE</td>\n",
       "      <td>BTS</td>\n",
       "      <td>3Nrfpe0tUJi4K4DXYWgMUX</td>\n",
       "      <td>Love Yourself 轉 'Tear'</td>\n",
       "      <td>242333</td>\n",
       "    </tr>\n",
       "    <tr>\n",
       "      <th>2</th>\n",
       "      <td>3o8QzWsiiqTUVgBZfHgF58</td>\n",
       "      <td>Cherry Bomb</td>\n",
       "      <td>NCT 127</td>\n",
       "      <td>7f4ignuCJhLXfZ9giKT7rH</td>\n",
       "      <td>NCT #127 CHERRY BOMB– The 3rd Mini Album</td>\n",
       "      <td>236667</td>\n",
       "    </tr>\n",
       "    <tr>\n",
       "      <th>3</th>\n",
       "      <td>6gGp4A2a6TUWhzYrhQQbk4</td>\n",
       "      <td>BLING BLING</td>\n",
       "      <td>iKON</td>\n",
       "      <td>5qRSs6mvI17zrkJpOHkCoM</td>\n",
       "      <td>NEW KIDS : BEGIN</td>\n",
       "      <td>219225</td>\n",
       "    </tr>\n",
       "    <tr>\n",
       "      <th>4</th>\n",
       "      <td>5EzitieoPnjyKHAq0gfRMa</td>\n",
       "      <td>Ko Ko Bop</td>\n",
       "      <td>EXO</td>\n",
       "      <td>3cjEqqelV9zb4BYE3qDQ4O</td>\n",
       "      <td>THE WAR - The 4th Album</td>\n",
       "      <td>190422</td>\n",
       "    </tr>\n",
       "    <tr>\n",
       "      <th>...</th>\n",
       "      <td>...</td>\n",
       "      <td>...</td>\n",
       "      <td>...</td>\n",
       "      <td>...</td>\n",
       "      <td>...</td>\n",
       "      <td>...</td>\n",
       "    </tr>\n",
       "    <tr>\n",
       "      <th>79</th>\n",
       "      <td>2V4Fx72svQRxrFvNT1eq5f</td>\n",
       "      <td>THE BADDEST</td>\n",
       "      <td>K/DA</td>\n",
       "      <td>4gOc8TsQed9eqnqJct2c5v</td>\n",
       "      <td>THE BADDEST</td>\n",
       "      <td>162600</td>\n",
       "    </tr>\n",
       "    <tr>\n",
       "      <th>80</th>\n",
       "      <td>4qMt92hgQlJMyJjdI0Nw2h</td>\n",
       "      <td>GUNSHOT</td>\n",
       "      <td>KARD</td>\n",
       "      <td>2JhAlkmukNvarUpGhTFXUQ</td>\n",
       "      <td>KARD 1st Single ‘Way With Words’</td>\n",
       "      <td>181480</td>\n",
       "    </tr>\n",
       "    <tr>\n",
       "      <th>81</th>\n",
       "      <td>6juLaduD4STCUDWT0AYun4</td>\n",
       "      <td>MORE</td>\n",
       "      <td>K/DA</td>\n",
       "      <td>4gOc8TsQed9eqnqJct2c5v</td>\n",
       "      <td>MORE</td>\n",
       "      <td>217088</td>\n",
       "    </tr>\n",
       "    <tr>\n",
       "      <th>82</th>\n",
       "      <td>7wDVvxMUdW5MtJUqFtuXUz</td>\n",
       "      <td>Bicycle</td>\n",
       "      <td>CHUNG HA</td>\n",
       "      <td>2PSJ6YriU7JsFucxACpU7Y</td>\n",
       "      <td>Querencia</td>\n",
       "      <td>179156</td>\n",
       "    </tr>\n",
       "    <tr>\n",
       "      <th>83</th>\n",
       "      <td>6shrCEEMcrT6Akxkk8IhLC</td>\n",
       "      <td>gimme gimme</td>\n",
       "      <td>NCT 127</td>\n",
       "      <td>7f4ignuCJhLXfZ9giKT7rH</td>\n",
       "      <td>LOVEHOLIC</td>\n",
       "      <td>219732</td>\n",
       "    </tr>\n",
       "  </tbody>\n",
       "</table>\n",
       "<p>84 rows × 6 columns</p>\n",
       "</div>"
      ],
      "text/plain": [
       "                  track_id         song    artist               artist_id  \\\n",
       "0   3nXUfNbkv8ikaSdHwEp0oY          DDD      EXID  1xs6WFotNQSXweo0GXrS0O   \n",
       "1   3aW0ds4A4tSQDIp75FqWTo    FAKE LOVE       BTS  3Nrfpe0tUJi4K4DXYWgMUX   \n",
       "2   3o8QzWsiiqTUVgBZfHgF58  Cherry Bomb   NCT 127  7f4ignuCJhLXfZ9giKT7rH   \n",
       "3   6gGp4A2a6TUWhzYrhQQbk4  BLING BLING      iKON  5qRSs6mvI17zrkJpOHkCoM   \n",
       "4   5EzitieoPnjyKHAq0gfRMa    Ko Ko Bop       EXO  3cjEqqelV9zb4BYE3qDQ4O   \n",
       "..                     ...          ...       ...                     ...   \n",
       "79  2V4Fx72svQRxrFvNT1eq5f  THE BADDEST      K/DA  4gOc8TsQed9eqnqJct2c5v   \n",
       "80  4qMt92hgQlJMyJjdI0Nw2h      GUNSHOT      KARD  2JhAlkmukNvarUpGhTFXUQ   \n",
       "81  6juLaduD4STCUDWT0AYun4         MORE      K/DA  4gOc8TsQed9eqnqJct2c5v   \n",
       "82  7wDVvxMUdW5MtJUqFtuXUz      Bicycle  CHUNG HA  2PSJ6YriU7JsFucxACpU7Y   \n",
       "83  6shrCEEMcrT6Akxkk8IhLC  gimme gimme   NCT 127  7f4ignuCJhLXfZ9giKT7rH   \n",
       "\n",
       "                                       album  length  \n",
       "0                                  Full Moon  205821  \n",
       "1                     Love Yourself 轉 'Tear'  242333  \n",
       "2   NCT #127 CHERRY BOMB– The 3rd Mini Album  236667  \n",
       "3                           NEW KIDS : BEGIN  219225  \n",
       "4                    THE WAR - The 4th Album  190422  \n",
       "..                                       ...     ...  \n",
       "79                               THE BADDEST  162600  \n",
       "80          KARD 1st Single ‘Way With Words’  181480  \n",
       "81                                      MORE  217088  \n",
       "82                                 Querencia  179156  \n",
       "83                                 LOVEHOLIC  219732  \n",
       "\n",
       "[84 rows x 6 columns]"
      ]
     },
     "execution_count": 45,
     "metadata": {},
     "output_type": "execute_result"
    }
   ],
   "source": [
    "Playlist_df"
   ]
  },
  {
   "cell_type": "code",
   "execution_count": 16,
   "metadata": {},
   "outputs": [],
   "source": [
    "rds_connection_string = f'postgres:{password}@localhost:5432/project_db'\n",
    "engine = create_engine(f'postgresql://{rds_connection_string}')"
   ]
  },
  {
   "cell_type": "code",
   "execution_count": 17,
   "metadata": {},
   "outputs": [
    {
     "data": {
      "text/plain": [
       "['playlist_lawrence']"
      ]
     },
     "execution_count": 17,
     "metadata": {},
     "output_type": "execute_result"
    }
   ],
   "source": [
    "engine.table_names()"
   ]
  },
  {
   "cell_type": "code",
   "execution_count": 46,
   "metadata": {},
   "outputs": [],
   "source": [
    "Playlist_df.to_sql(name='playlist_lawrence', con=engine, if_exists='append', index=True)"
   ]
  },
  {
   "cell_type": "code",
   "execution_count": null,
   "metadata": {},
   "outputs": [],
   "source": []
  },
  {
   "cell_type": "code",
   "execution_count": 36,
   "metadata": {
    "scrolled": false
   },
   "outputs": [
    {
     "data": {
      "text/plain": [
       "'1xs6WFotNQSXweo0GXrS0O'"
      ]
     },
     "execution_count": 36,
     "metadata": {},
     "output_type": "execute_result"
    }
   ],
   "source": [
    "playlist_json['tracks']['items'][0]['track']['artists'][0]['id']"
   ]
  }
 ],
 "metadata": {
  "kernelspec": {
   "display_name": "Python 3",
   "language": "python",
   "name": "python3"
  },
  "language_info": {
   "codemirror_mode": {
    "name": "ipython",
    "version": 3
   },
   "file_extension": ".py",
   "mimetype": "text/x-python",
   "name": "python",
   "nbconvert_exporter": "python",
   "pygments_lexer": "ipython3",
   "version": "3.8.5"
  }
 },
 "nbformat": 4,
 "nbformat_minor": 4
}
