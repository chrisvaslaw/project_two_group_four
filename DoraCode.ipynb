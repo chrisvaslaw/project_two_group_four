{
 "cells": [
  {
   "cell_type": "code",
   "execution_count": 7,
   "metadata": {},
   "outputs": [
    {
     "name": "stdout",
     "output_type": "stream",
     "text": [
      "Requirement already satisfied: spotipy in /Users/doraamoako/opt/anaconda3/lib/python3.8/site-packages (2.18.0)\n",
      "Requirement already satisfied: urllib3>=1.26.0 in /Users/doraamoako/opt/anaconda3/lib/python3.8/site-packages (from spotipy) (1.26.4)\n",
      "Requirement already satisfied: six>=1.15.0 in /Users/doraamoako/opt/anaconda3/lib/python3.8/site-packages (from spotipy) (1.15.0)\n",
      "Requirement already satisfied: requests>=2.25.0 in /Users/doraamoako/opt/anaconda3/lib/python3.8/site-packages (from spotipy) (2.25.1)\n",
      "Requirement already satisfied: idna<3,>=2.5 in /Users/doraamoako/opt/anaconda3/lib/python3.8/site-packages (from requests>=2.25.0->spotipy) (2.10)\n",
      "Requirement already satisfied: chardet<5,>=3.0.2 in /Users/doraamoako/opt/anaconda3/lib/python3.8/site-packages (from requests>=2.25.0->spotipy) (3.0.4)\n",
      "Requirement already satisfied: certifi>=2017.4.17 in /Users/doraamoako/opt/anaconda3/lib/python3.8/site-packages (from requests>=2.25.0->spotipy) (2020.6.20)\n",
      "Note: you may need to restart the kernel to use updated packages.\n"
     ]
    }
   ],
   "source": [
    "pip install spotipy"
   ]
  },
  {
   "cell_type": "code",
   "execution_count": 8,
   "metadata": {},
   "outputs": [],
   "source": [
    "import spotipy\n",
    "from spotipy.oauth2 import SpotifyClientCredentials\n",
    "import pandas as pd\n",
    "import time "
   ]
  },
  {
   "cell_type": "code",
   "execution_count": 9,
   "metadata": {},
   "outputs": [],
   "source": [
    "client_id = '4c6fc8c6e1c845309509a7e02fdba4f1'\n",
    "client_secret = 'f1f777a75ba24bff8d216c93244e6380'\n",
    "\n",
    "client_credentials_manager = SpotifyClientCredentials(client_id, client_secret)\n",
    "sp = spotipy.Spotify(client_credentials_manager=client_credentials_manager)"
   ]
  },
  {
   "cell_type": "code",
   "execution_count": 11,
   "metadata": {},
   "outputs": [],
   "source": [
    "def getTrackIDs(user, playlist_id):\n",
    "    ids = []\n",
    "    playlist = sp.user_playlist(user, playlist_id)\n",
    "    for item in playlist['tracks']['items']:\n",
    "        track = item['track']\n",
    "        ids.append(track['id'])\n",
    "    return ids\n",
    "ids = getTrackIDs('icon233', '37i9dQZF1E9X9yjqH8uBus')"
   ]
  },
  {
   "cell_type": "code",
   "execution_count": 12,
   "metadata": {},
   "outputs": [
    {
     "name": "stdout",
     "output_type": "stream",
     "text": [
      "100\n",
      "['7I6YpuvNg6mEzUmvpxY5ro', '2SLN0j6wlPLOa0j59rknYx', '6N3qHjcwly8ZuhE4bPYJAX', '0cF0lQsgZNAMnaydXUMFcE', '7ribfTL7pop284OWo6oICl', '7AFxCS5OHNvZgD2qceIc5Q', '2Xqd0wUttjueBfdcltADOv', '1EGXODDpL0ptF6MJGFiQoT', '3ZXRO7Yssv3Bgwdpwy7lc2', '2i6KDTQPyVkkT2xfq784dv', '5aTpAyZyZuZ4KEsGAYFZpT', '31xw4tkg2BuXy2dcCfXGSy', '3uSSjnDMmoyERaAK9KvpJR', '5EpdvRM97d8JBlvCz1V6gM', '2P1e3xpjDhYFqOFeu8IWzS', '1boXOL0ua7N2iCOUVI1p9F', '7GdSvJ1lnSYelQzd0Gv4Fs', '3v10vlZlZPApvDz3kE4aNe', '2OXAWAySnYPJHLvgLX5fFT', '4Q91K9yFyccseq4xtD1FYK', '5UidHzMGdz1x8VrXzfUJAv', '46QsWO7HWBkgIq7Tjj6fN9', '0G2AuXLiwG8CDccAo3ZeiL', '1u4orOe6gYxeE9xKpv11Qi', '0755vnFQZLSgHHWbR1qCjY', '0IaiJbZebXLqfetAkMEZzU', '2bZQcvfAEx8jS3Nphqx2iH', '3hU637WcAGM5ubSqeaTme5', '2ECefx6zaEZA5wMEyBRyhS', '0WJ7NdddG6VGQ5ez8DFoEP', '5yamjs92dcayRVlNuY116G', '4nSCXiPMaXcQ79c6ahAiKv', '6kSgsughJ1LFHaClLGleIR', '6nyi9wUk0XAJaseNHD6Yb9', '6GPLnCfcV0pgTsRALdWDe7', '1y9g5UW31xBqvOi10tcXGX', '5nS2tlf35lQRshjTgvEwk7', '4TSDz7xZtxIXeKwiOuCe25', '5gkXdxocub8DQVdwExS1Ka', '3QBPqp9uOfFwNxkw5idavo', '69iVsk096xmrKtcrU2mVnj', '2WlOO5UM3eoEQt7Z2z3PU1', '4H44ahNyyS32ycy4lJyWe1', '0Aa3g9EQoPNt6PiKjaUeb7', '7N1Vjtzr1lmmCW9iasQ8YO', '2MAdGSEc0bs15KTuXPax0G', '5NijSs5dAwaIybq1GaRTIe', '0f3BvTjePptxReXkfK5HDb', '4anqYZt4APNlFwQixpbdZR', '6zyXhzPJg7dCGuC5ToIxqN', '4Qzdf5Dmuk0YO8LC0QCaTY', '4dGxYR5xIx0wer0x5EOg7m', '6QP9u3WaKQhyzJioCa64vY', '1qL3mbgCBeuc97GjZQgYj8', '3V5I90jseccXcK4MGC1gqr', '73tOnxbBU68dofxJarnwFj', '02vKYsGA7RZ9mU1wTNljE5', '10C83Ul1IxCyuoJRWtx5GN', '4dVpf9jZjcORqGTLUaeYj9', '6hrnXrhPRsVzTxMtxdEauX', '66Rt7x7gp6Ofr8055bPJjA', '3XcsaghGUCL9WzJz3TlLKo', '4wrFyDplCvz8wtRL7s1nhM', '0hKBQO2KtkDw99y7oUaTPf', '0hcW7qPqWWJc8189OaqQvX', '785Qya5mtMUwBQtuypVqrx', '7d9I42jF759n5HuUeoulzR', '7iKXO3oCFiiZRniwAJaGa4', '20E9JE3J8dHNDj9saOeNgu', '7jJH8F3PHlNvxfqEAAfFDl', '7CNVenAoty0IomwFPaMaaH', '4fZDZMgyWBxTg2Rc4OHVtB', '4KyH3SniFun4TPkMH6k4lT', '7Dr25L6JsBA0ztq7hGM3mv', '1ig3239FhKsYUnu86O1rXY', '0IVAlb0cFCH1cQ974iR1TU', '2Kf9fwIOwZwd6Aw7OxfkF0', '7sZCAHP2duHwr5M5K7lHsb', '6HXr5VFnqeCNLNte0tMqlk', '2YlZnw2ikdb837oKMKjBkW', '7ccI9cStQbQdystvc6TvxD', '3wrqiZJKMSpLBvgFJfFOp1', '2LhhnqrHPWvXYveZVHLKrd', '7mWtOqfkOCbaldtK6TEoVd', '1RMJOxR6GRPsBHL8qeC2ux', '6Xo9osN1HErsEJoqwj4eDg', '4uNisev7PGUAixBOagpgyY', '0KFuXEdOp5QfIfxHR6TJSm', '20oGGHoF7v2RLo4LzoFnej', '0JRB0l3igltUQX1OmKyORy', '7LyIoUsiMtelB1I0I4drEF', '42aZFX1bcCDj75ue0KoNSd', '74S8BajRxF14NYUGj1I04o', '7KIl2wAxihHCV6lFhpBU9p', '7bp82X8aj8BGFPrZpmnCED', '786PWkpZ8OMdwgk5Nx3xnf', '0IzwEXmCbVDvB6hEzDaSwG', '6046ubTElltXWIVGb6VUQp', '5Qel1sTrU4LM8HlJSPT2jd', '388t96tJStiXYpJgKcnFtm']\n"
     ]
    }
   ],
   "source": [
    "print(len(ids))\n",
    "print(ids)"
   ]
  },
  {
   "cell_type": "code",
   "execution_count": 13,
   "metadata": {},
   "outputs": [],
   "source": [
    "def getTrackFeatures(id):\n",
    "  meta = sp.track(id)\n",
    "  features = sp.audio_features(id)\n",
    "\n",
    "  # meta\n",
    "  name = meta['name']\n",
    "  album = meta['album']['name']\n",
    "  artist = meta['album']['artists'][0]['name']\n",
    "  release_date = meta['album']['release_date']\n",
    "  length = meta['duration_ms']\n",
    "  popularity = meta['popularity']\n",
    "\n",
    "  # features\n",
    "  acousticness = features[0]['acousticness']\n",
    "  danceability = features[0]['danceability']\n",
    "  energy = features[0]['energy']\n",
    "  instrumentalness = features[0]['instrumentalness']\n",
    "  liveness = features[0]['liveness']\n",
    "  loudness = features[0]['loudness']\n",
    "  speechiness = features[0]['speechiness']\n",
    "  tempo = features[0]['tempo']\n",
    "  time_signature = features[0]['time_signature']\n",
    "\n",
    "  track = [name, album, artist, release_date, length, popularity, danceability, acousticness, danceability, energy, instrumentalness, liveness, loudness, speechiness, tempo, time_signature]\n",
    "  return track"
   ]
  },
  {
   "cell_type": "code",
   "execution_count": 14,
   "metadata": {},
   "outputs": [],
   "source": [
    "# loop over track ids \n",
    "tracks = []\n",
    "for i in range(len(ids)):\n",
    "  time.sleep(.5)\n",
    "  track = getTrackFeatures(ids[i])\n",
    "  tracks.append(track)\n",
    "\n",
    "# create dataset\n",
    "df = pd.DataFrame(tracks, columns = ['name', 'album', 'artist', 'release_date', 'length', 'popularity', 'danceability', 'acousticness', 'danceability', 'energy', 'instrumentalness', 'liveness', 'loudness', 'speechiness', 'tempo', 'time_signature'])\n",
    "df.to_csv(\"spotify.csv\", sep = ',')"
   ]
  },
  {
   "cell_type": "code",
   "execution_count": null,
   "metadata": {},
   "outputs": [],
   "source": []
  }
 ],
 "metadata": {
  "kernelspec": {
   "display_name": "Python 3",
   "language": "python",
   "name": "python3"
  },
  "language_info": {
   "codemirror_mode": {
    "name": "ipython",
    "version": 3
   },
   "file_extension": ".py",
   "mimetype": "text/x-python",
   "name": "python",
   "nbconvert_exporter": "python",
   "pygments_lexer": "ipython3",
   "version": "3.8.5"
  }
 },
 "nbformat": 4,
 "nbformat_minor": 4
}
